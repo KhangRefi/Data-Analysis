{
  "cells": [
    {
      "cell_type": "markdown",
      "metadata": {
        "id": "view-in-github",
        "colab_type": "text"
      },
      "source": [
        "<a href=\"https://colab.research.google.com/github/KhangRefi/Data-Science/blob/main/Pandas/Pandas_Series_Exercises.ipynb\" target=\"_parent\"><img src=\"https://colab.research.google.com/assets/colab-badge.svg\" alt=\"Open In Colab\"/></a>"
      ]
    },
    {
      "cell_type": "markdown",
      "metadata": {
        "id": "5_q85kJEtuHG"
      },
      "source": [
        "# Pandas Series exercises\n"
      ]
    },
    {
      "cell_type": "code",
      "execution_count": 1,
      "metadata": {
        "id": "0G9E-PxltuHM"
      },
      "outputs": [],
      "source": [
        "import numpy as np\n",
        "import pandas as pd"
      ]
    },
    {
      "cell_type": "markdown",
      "metadata": {
        "id": "fOANQTlOtuHO"
      },
      "source": [
        "<hr style=\"margin-bottom: 40px;\"></hr>\n",
        "\n",
        "## Series creation"
      ]
    },
    {
      "cell_type": "markdown",
      "metadata": {
        "id": "RGn7a4fltuHO"
      },
      "source": [
        "### Create an empty pandas Series"
      ]
    },
    {
      "cell_type": "code",
      "execution_count": 2,
      "metadata": {
        "id": "nIeZqVwHtuHP",
        "colab": {
          "base_uri": "https://localhost:8080/"
        },
        "outputId": "ec4cd146-a030-4e09-ef6a-fdce45ef2362"
      },
      "outputs": [
        {
          "output_type": "stream",
          "name": "stderr",
          "text": [
            "/usr/local/lib/python3.7/dist-packages/ipykernel_launcher.py:1: DeprecationWarning: The default dtype for empty Series will be 'object' instead of 'float64' in a future version. Specify a dtype explicitly to silence this warning.\n",
            "  \"\"\"Entry point for launching an IPython kernel.\n"
          ]
        },
        {
          "output_type": "execute_result",
          "data": {
            "text/plain": [
              "Series([], dtype: float64)"
            ]
          },
          "metadata": {},
          "execution_count": 2
        }
      ],
      "source": [
        "pd.Series()"
      ]
    },
    {
      "cell_type": "markdown",
      "metadata": {
        "id": "9U1tNCxgtuHQ"
      },
      "source": [
        "### Given the X python list convert it to an Y pandas Series"
      ]
    },
    {
      "cell_type": "code",
      "execution_count": 3,
      "metadata": {
        "id": "Ch5Xa8vxtuHR",
        "colab": {
          "base_uri": "https://localhost:8080/"
        },
        "outputId": "4a6039e1-1267-441f-8cfe-63820760d016"
      },
      "outputs": [
        {
          "output_type": "stream",
          "name": "stdout",
          "text": [
            "0    1\n",
            "1    9\n",
            "2    5\n",
            "3    6\n",
            "dtype: int64\n"
          ]
        }
      ],
      "source": [
        "X = [1,9,5,6]\n",
        "Y = pd.Series(X)\n",
        "print(Y)"
      ]
    },
    {
      "cell_type": "code",
      "execution_count": 4,
      "metadata": {
        "cell_type": "solution",
        "id": "NPzDHUW6tuHR",
        "colab": {
          "base_uri": "https://localhost:8080/"
        },
        "outputId": "09be95d6-4ec8-4678-9573-82a3b3bf9250"
      },
      "outputs": [
        {
          "output_type": "stream",
          "name": "stdout",
          "text": [
            "0    A\n",
            "1    B\n",
            "2    C\n",
            "dtype: object\n"
          ]
        }
      ],
      "source": [
        "X = ['A','B','C']\n",
        "Y = pd.Series(X)\n",
        "print(Y)"
      ]
    },
    {
      "cell_type": "markdown",
      "metadata": {
        "id": "jXHtCgt0tuHS"
      },
      "source": [
        "### Given the X pandas Series, name it 'My letters'"
      ]
    },
    {
      "cell_type": "code",
      "execution_count": 5,
      "metadata": {
        "cell_type": "solution",
        "id": "x7-I5WvWtuHT",
        "colab": {
          "base_uri": "https://localhost:8080/"
        },
        "outputId": "53fe778a-018e-458e-8e69-45f1ea8b1f8c"
      },
      "outputs": [
        {
          "output_type": "stream",
          "name": "stdout",
          "text": [
            "0    1\n",
            "1    2\n",
            "2    3\n",
            "3    4\n",
            "4    5\n",
            "5    6\n",
            "Name: My letters, dtype: int64\n"
          ]
        }
      ],
      "source": [
        "X = pd.Series([1, 2, 3, 4, 5, 6])\n",
        "\n",
        "X.name = 'My letters'\n",
        "print(X)"
      ]
    },
    {
      "cell_type": "markdown",
      "metadata": {
        "id": "McQ7_1H_tuHU"
      },
      "source": [
        "### Given the X pandas Series, show its values\n"
      ]
    },
    {
      "cell_type": "code",
      "execution_count": 6,
      "metadata": {
        "cell_type": "solution",
        "id": "J8bk63SrtuHV",
        "colab": {
          "base_uri": "https://localhost:8080/"
        },
        "outputId": "49a77887-e29c-4999-8e2d-e1049a856ad0"
      },
      "outputs": [
        {
          "output_type": "stream",
          "name": "stdout",
          "text": [
            "['A' 'B' 'C']\n"
          ]
        }
      ],
      "source": [
        "X = pd.Series(['A', 'B', 'C'])\n",
        "\n",
        "print(X.values)"
      ]
    },
    {
      "cell_type": "markdown",
      "metadata": {
        "id": "f-Rr3P0ltuHV"
      },
      "source": [
        "<hr style=\"margin-bottom: 40px;\"></hr>\n",
        "\n",
        "## Series indexation"
      ]
    },
    {
      "cell_type": "markdown",
      "metadata": {
        "id": "WbiP5yb-tuHW"
      },
      "source": [
        "### Assign index names to the given X pandas Series\n"
      ]
    },
    {
      "cell_type": "code",
      "execution_count": 7,
      "metadata": {
        "cell_type": "solution",
        "id": "PfcQFac-tuHW",
        "colab": {
          "base_uri": "https://localhost:8080/"
        },
        "outputId": "718140ed-35c1-4e37-9cff-8bcec6a60350"
      },
      "outputs": [
        {
          "output_type": "stream",
          "name": "stdout",
          "text": [
            "first     A\n",
            "second    B\n",
            "third     C\n",
            "dtype: object\n"
          ]
        }
      ],
      "source": [
        "X = pd.Series(['A','B','C'])\n",
        "index_names = ['first', 'second', 'third']\n",
        "\n",
        "X.index = index_names\n",
        "print(X)"
      ]
    },
    {
      "cell_type": "markdown",
      "metadata": {
        "id": "1aorDC_btuHX"
      },
      "source": [
        "### Given the X pandas Series, show its first element\n"
      ]
    },
    {
      "cell_type": "code",
      "execution_count": 8,
      "metadata": {
        "cell_type": "solution",
        "id": "f9Gxq3fDtuHX",
        "colab": {
          "base_uri": "https://localhost:8080/",
          "height": 36
        },
        "outputId": "c6b034c6-37c3-4826-fbd9-bbf94b5f0cfa"
      },
      "outputs": [
        {
          "output_type": "execute_result",
          "data": {
            "text/plain": [
              "'A'"
            ],
            "application/vnd.google.colaboratory.intrinsic+json": {
              "type": "string"
            }
          },
          "metadata": {},
          "execution_count": 8
        }
      ],
      "source": [
        "X = pd.Series(['A','B','C'], index=['first', 'second', 'third'])\n",
        "\n",
        "X['first']"
      ]
    },
    {
      "cell_type": "code",
      "source": [
        "X[0]"
      ],
      "metadata": {
        "colab": {
          "base_uri": "https://localhost:8080/",
          "height": 36
        },
        "id": "DkIxfqKoYT0I",
        "outputId": "42d6ba50-85d9-4f6d-cd92-54c7873b16d0"
      },
      "execution_count": 9,
      "outputs": [
        {
          "output_type": "execute_result",
          "data": {
            "text/plain": [
              "'A'"
            ],
            "application/vnd.google.colaboratory.intrinsic+json": {
              "type": "string"
            }
          },
          "metadata": {},
          "execution_count": 9
        }
      ]
    },
    {
      "cell_type": "code",
      "source": [
        "X.iloc[0]"
      ],
      "metadata": {
        "colab": {
          "base_uri": "https://localhost:8080/",
          "height": 36
        },
        "id": "KyDyeRLqYXeg",
        "outputId": "5baae271-2788-4c26-def5-61e3263bd7c2"
      },
      "execution_count": 10,
      "outputs": [
        {
          "output_type": "execute_result",
          "data": {
            "text/plain": [
              "'A'"
            ],
            "application/vnd.google.colaboratory.intrinsic+json": {
              "type": "string"
            }
          },
          "metadata": {},
          "execution_count": 10
        }
      ]
    },
    {
      "cell_type": "code",
      "source": [
        "X.loc['first']"
      ],
      "metadata": {
        "colab": {
          "base_uri": "https://localhost:8080/",
          "height": 36
        },
        "id": "YXpAnXxnfiiE",
        "outputId": "9874b525-85c4-4378-81c4-51799aeb865a"
      },
      "execution_count": 11,
      "outputs": [
        {
          "output_type": "execute_result",
          "data": {
            "text/plain": [
              "'A'"
            ],
            "application/vnd.google.colaboratory.intrinsic+json": {
              "type": "string"
            }
          },
          "metadata": {},
          "execution_count": 11
        }
      ]
    },
    {
      "cell_type": "markdown",
      "metadata": {
        "id": "CPS6-FkytuHY"
      },
      "source": [
        "### Given the X pandas Series, show its last element\n"
      ]
    },
    {
      "cell_type": "code",
      "execution_count": 12,
      "metadata": {
        "cell_type": "solution",
        "id": "x_6Y7IactuHY",
        "colab": {
          "base_uri": "https://localhost:8080/",
          "height": 36
        },
        "outputId": "327bf4ef-7208-4178-d472-e60642a00dbf"
      },
      "outputs": [
        {
          "output_type": "execute_result",
          "data": {
            "text/plain": [
              "'C'"
            ],
            "application/vnd.google.colaboratory.intrinsic+json": {
              "type": "string"
            }
          },
          "metadata": {},
          "execution_count": 12
        }
      ],
      "source": [
        "X = pd.Series(['A','B','C'], index=['first', 'second', 'third'])\n",
        "\n",
        "X['third']"
      ]
    },
    {
      "cell_type": "code",
      "source": [
        "X[-1]"
      ],
      "metadata": {
        "colab": {
          "base_uri": "https://localhost:8080/",
          "height": 36
        },
        "id": "rqVJoaWDfduq",
        "outputId": "9fd54db7-4f06-4a22-939e-34595a4dde1b"
      },
      "execution_count": 13,
      "outputs": [
        {
          "output_type": "execute_result",
          "data": {
            "text/plain": [
              "'C'"
            ],
            "application/vnd.google.colaboratory.intrinsic+json": {
              "type": "string"
            }
          },
          "metadata": {},
          "execution_count": 13
        }
      ]
    },
    {
      "cell_type": "code",
      "source": [
        "X.iloc[-1]"
      ],
      "metadata": {
        "colab": {
          "base_uri": "https://localhost:8080/",
          "height": 36
        },
        "id": "Zr0RFEsdffBd",
        "outputId": "34b0120b-d2a1-41ee-f585-91d7d800b310"
      },
      "execution_count": 14,
      "outputs": [
        {
          "output_type": "execute_result",
          "data": {
            "text/plain": [
              "'C'"
            ],
            "application/vnd.google.colaboratory.intrinsic+json": {
              "type": "string"
            }
          },
          "metadata": {},
          "execution_count": 14
        }
      ]
    },
    {
      "cell_type": "code",
      "source": [
        "X.loc['third']"
      ],
      "metadata": {
        "colab": {
          "base_uri": "https://localhost:8080/",
          "height": 36
        },
        "id": "GUKPt9kqfnrI",
        "outputId": "60cc7fac-04af-4955-fccd-c0fd61b40ce4"
      },
      "execution_count": 15,
      "outputs": [
        {
          "output_type": "execute_result",
          "data": {
            "text/plain": [
              "'C'"
            ],
            "application/vnd.google.colaboratory.intrinsic+json": {
              "type": "string"
            }
          },
          "metadata": {},
          "execution_count": 15
        }
      ]
    },
    {
      "cell_type": "markdown",
      "metadata": {
        "id": "uJ8oQ8-etuHY"
      },
      "source": [
        "### Given the X pandas Series, show all middle elements\n"
      ]
    },
    {
      "cell_type": "code",
      "execution_count": 16,
      "metadata": {
        "cell_type": "solution",
        "id": "NfW3ojPttuHZ",
        "colab": {
          "base_uri": "https://localhost:8080/"
        },
        "outputId": "1b03128b-b5ab-475c-c4d2-fcef747ba451"
      },
      "outputs": [
        {
          "output_type": "execute_result",
          "data": {
            "text/plain": [
              "second    B\n",
              "third     C\n",
              "forth     D\n",
              "dtype: object"
            ]
          },
          "metadata": {},
          "execution_count": 16
        }
      ],
      "source": [
        "X = pd.Series(['A','B','C','D','E'],\n",
        "              index=['first','second','third','forth','fifth'])\n",
        "\n",
        "X[1:-1]"
      ]
    },
    {
      "cell_type": "code",
      "source": [
        "X[['second', 'third', 'forth']]"
      ],
      "metadata": {
        "colab": {
          "base_uri": "https://localhost:8080/"
        },
        "id": "fWVzUhiahDcQ",
        "outputId": "35325676-db3d-447f-ecde-31567f165a77"
      },
      "execution_count": 17,
      "outputs": [
        {
          "output_type": "execute_result",
          "data": {
            "text/plain": [
              "second    B\n",
              "third     C\n",
              "forth     D\n",
              "dtype: object"
            ]
          },
          "metadata": {},
          "execution_count": 17
        }
      ]
    },
    {
      "cell_type": "code",
      "source": [
        "X.iloc[1:-1]"
      ],
      "metadata": {
        "colab": {
          "base_uri": "https://localhost:8080/"
        },
        "id": "oeK_uiZ0hIUt",
        "outputId": "97e9ce98-6804-4eba-c95f-e11a7f1f4bbe"
      },
      "execution_count": 18,
      "outputs": [
        {
          "output_type": "execute_result",
          "data": {
            "text/plain": [
              "second    B\n",
              "third     C\n",
              "forth     D\n",
              "dtype: object"
            ]
          },
          "metadata": {},
          "execution_count": 18
        }
      ]
    },
    {
      "cell_type": "code",
      "source": [
        "X.loc[['second', 'third', 'forth']]"
      ],
      "metadata": {
        "colab": {
          "base_uri": "https://localhost:8080/"
        },
        "id": "gihjPcKxhK1q",
        "outputId": "2cc78030-8f7d-4d09-edc1-5d1b7c20ccd4"
      },
      "execution_count": 19,
      "outputs": [
        {
          "output_type": "execute_result",
          "data": {
            "text/plain": [
              "second    B\n",
              "third     C\n",
              "forth     D\n",
              "dtype: object"
            ]
          },
          "metadata": {},
          "execution_count": 19
        }
      ]
    },
    {
      "cell_type": "markdown",
      "metadata": {
        "id": "8fTo67-stuHZ"
      },
      "source": [
        "### Given the X pandas Series, show the elements in reverse position\n"
      ]
    },
    {
      "cell_type": "code",
      "execution_count": 20,
      "metadata": {
        "cell_type": "solution",
        "id": "YgNBlRYGtuHZ",
        "colab": {
          "base_uri": "https://localhost:8080/"
        },
        "outputId": "a93e193b-5a62-4fc2-9b6d-faec8be5374d"
      },
      "outputs": [
        {
          "output_type": "execute_result",
          "data": {
            "text/plain": [
              "fifth     E\n",
              "forth     D\n",
              "third     C\n",
              "second    B\n",
              "first     A\n",
              "dtype: object"
            ]
          },
          "metadata": {},
          "execution_count": 20
        }
      ],
      "source": [
        "X = pd.Series(['A','B','C','D','E'],\n",
        "              index=['first','second','third','forth','fifth'])\n",
        "\n",
        "X[::-1]"
      ]
    },
    {
      "cell_type": "markdown",
      "metadata": {
        "id": "_9AnqC35tuHZ"
      },
      "source": [
        "### Given the X pandas Series, show the first and last elements\n"
      ]
    },
    {
      "cell_type": "code",
      "execution_count": 21,
      "metadata": {
        "cell_type": "solution",
        "id": "TF-EnTCetuHa",
        "colab": {
          "base_uri": "https://localhost:8080/"
        },
        "outputId": "63375dda-9d91-47c9-a19d-6008d5a198d8"
      },
      "outputs": [
        {
          "output_type": "execute_result",
          "data": {
            "text/plain": [
              "first    A\n",
              "fifth    E\n",
              "dtype: object"
            ]
          },
          "metadata": {},
          "execution_count": 21
        }
      ],
      "source": [
        "X = pd.Series(['A','B','C','D','E'],\n",
        "              index=['first','second','third','forth','fifth'])\n",
        "\n",
        "X[[0, -1]]"
      ]
    },
    {
      "cell_type": "code",
      "source": [
        "X[['first', 'fifth']]"
      ],
      "metadata": {
        "colab": {
          "base_uri": "https://localhost:8080/"
        },
        "id": "Yg_hyO6Hhrsn",
        "outputId": "310b9a45-7c16-4128-9e36-dfd75ea1848d"
      },
      "execution_count": 22,
      "outputs": [
        {
          "output_type": "execute_result",
          "data": {
            "text/plain": [
              "first    A\n",
              "fifth    E\n",
              "dtype: object"
            ]
          },
          "metadata": {},
          "execution_count": 22
        }
      ]
    },
    {
      "cell_type": "code",
      "source": [
        "X.iloc[[0, -1]]"
      ],
      "metadata": {
        "colab": {
          "base_uri": "https://localhost:8080/"
        },
        "id": "T0AM7IuchvuA",
        "outputId": "0a936700-9270-4a27-c7ec-58528a3634d0"
      },
      "execution_count": 23,
      "outputs": [
        {
          "output_type": "execute_result",
          "data": {
            "text/plain": [
              "first    A\n",
              "fifth    E\n",
              "dtype: object"
            ]
          },
          "metadata": {},
          "execution_count": 23
        }
      ]
    },
    {
      "cell_type": "code",
      "source": [
        "X.loc[['first', 'fifth']]"
      ],
      "metadata": {
        "colab": {
          "base_uri": "https://localhost:8080/"
        },
        "id": "bq1wLbYdhyAA",
        "outputId": "a226977c-80a1-4c7a-ca53-3efd8c59c820"
      },
      "execution_count": 24,
      "outputs": [
        {
          "output_type": "execute_result",
          "data": {
            "text/plain": [
              "first    A\n",
              "fifth    E\n",
              "dtype: object"
            ]
          },
          "metadata": {},
          "execution_count": 24
        }
      ]
    },
    {
      "cell_type": "markdown",
      "metadata": {
        "id": "YuPM7Qy_tuHa"
      },
      "source": [
        "<hr style=\"margin-bottom: 40px;\"></hr>\n",
        "\n",
        "## Series manipulation"
      ]
    },
    {
      "cell_type": "markdown",
      "metadata": {
        "id": "6Xjoe8xYtuHa"
      },
      "source": [
        "### Convert the given integer pandas Series to float\n"
      ]
    },
    {
      "cell_type": "code",
      "execution_count": 25,
      "metadata": {
        "cell_type": "solution",
        "id": "5zY-Ft8WtuHb",
        "colab": {
          "base_uri": "https://localhost:8080/"
        },
        "outputId": "029bdcf0-54d2-4646-fcd0-be38f68d901d"
      },
      "outputs": [
        {
          "output_type": "execute_result",
          "data": {
            "text/plain": [
              "first     1.0\n",
              "second    2.0\n",
              "third     3.0\n",
              "forth     4.0\n",
              "fifth     5.0\n",
              "dtype: float64"
            ]
          },
          "metadata": {},
          "execution_count": 25
        }
      ],
      "source": [
        "X = pd.Series([1,2,3,4,5],\n",
        "              index=['first','second','third','forth','fifth'])\n",
        "\n",
        "pd.Series(X, dtype=float)"
      ]
    },
    {
      "cell_type": "markdown",
      "metadata": {
        "id": "ml6AkgumtuHb"
      },
      "source": [
        "### Reverse the given pandas Series (first element becomes last)"
      ]
    },
    {
      "cell_type": "code",
      "execution_count": 26,
      "metadata": {
        "cell_type": "solution",
        "id": "m_N5btGrtuHb",
        "colab": {
          "base_uri": "https://localhost:8080/"
        },
        "outputId": "7da3737a-c6ba-426c-bd5a-3b613fbc908d"
      },
      "outputs": [
        {
          "output_type": "execute_result",
          "data": {
            "text/plain": [
              "fifth     5\n",
              "forth     4\n",
              "third     3\n",
              "second    2\n",
              "first     1\n",
              "dtype: int64"
            ]
          },
          "metadata": {},
          "execution_count": 26
        }
      ],
      "source": [
        "X = pd.Series([1,2,3,4,5],\n",
        "              index=['first','second','third','forth','fifth'])\n",
        "\n",
        "X[::-1]"
      ]
    },
    {
      "cell_type": "markdown",
      "metadata": {
        "id": "_MtNlR3stuHb"
      },
      "source": [
        "### Order (sort) the given pandas Series\n"
      ]
    },
    {
      "cell_type": "code",
      "execution_count": 27,
      "metadata": {
        "cell_type": "solution",
        "id": "T7db2deBtuHc",
        "colab": {
          "base_uri": "https://localhost:8080/"
        },
        "outputId": "150ea462-12dc-4b9f-fa12-3a7b4fbd94ee"
      },
      "outputs": [
        {
          "output_type": "execute_result",
          "data": {
            "text/plain": [
              "first     1\n",
              "second    2\n",
              "third     3\n",
              "forth     4\n",
              "fifth     5\n",
              "dtype: int64"
            ]
          },
          "metadata": {},
          "execution_count": 27
        }
      ],
      "source": [
        "X = pd.Series([4,2,5,1,3],\n",
        "              index=['forth','second','fifth','first','third'])\n",
        "\n",
        "X = X.sort_values()\n",
        "X"
      ]
    },
    {
      "cell_type": "markdown",
      "metadata": {
        "id": "NPVCQKJBtuHc"
      },
      "source": [
        "### Given the X pandas Series, set the fifth element equal to 10\n"
      ]
    },
    {
      "cell_type": "code",
      "execution_count": 28,
      "metadata": {
        "cell_type": "solution",
        "id": "Wwf6Dr42tuHc",
        "colab": {
          "base_uri": "https://localhost:8080/"
        },
        "outputId": "4935fba1-3835-418b-c3ff-93b93cb5e022"
      },
      "outputs": [
        {
          "output_type": "execute_result",
          "data": {
            "text/plain": [
              "A     1\n",
              "B     2\n",
              "C     3\n",
              "D     4\n",
              "E    10\n",
              "dtype: int64"
            ]
          },
          "metadata": {},
          "execution_count": 28
        }
      ],
      "source": [
        "X = pd.Series([1,2,3,4,5],\n",
        "              index=['A','B','C','D','E'])\n",
        "\n",
        "X[4] = 10\n",
        "X"
      ]
    },
    {
      "cell_type": "markdown",
      "metadata": {
        "id": "WdygaJg-tuHd"
      },
      "source": [
        "### Given the X pandas Series, change all the middle elements to 0\n"
      ]
    },
    {
      "cell_type": "code",
      "execution_count": 29,
      "metadata": {
        "cell_type": "solution",
        "scrolled": false,
        "id": "0eu3Kyp0tuHd",
        "colab": {
          "base_uri": "https://localhost:8080/"
        },
        "outputId": "907235c8-d500-44c5-b8eb-431bd7285c11"
      },
      "outputs": [
        {
          "output_type": "execute_result",
          "data": {
            "text/plain": [
              "A    1\n",
              "B    0\n",
              "C    0\n",
              "D    0\n",
              "E    5\n",
              "dtype: int64"
            ]
          },
          "metadata": {},
          "execution_count": 29
        }
      ],
      "source": [
        "X = pd.Series([1,2,3,4,5],\n",
        "              index=['A','B','C','D','E'])\n",
        "\n",
        "X[1:-1] = 0\n",
        "X"
      ]
    },
    {
      "cell_type": "markdown",
      "metadata": {
        "id": "ci718FMFtuHd"
      },
      "source": [
        "### Given the X pandas Series, add 5 to every element\n"
      ]
    },
    {
      "cell_type": "code",
      "execution_count": 30,
      "metadata": {
        "cell_type": "solution",
        "id": "qvzz6_b2tuHg",
        "colab": {
          "base_uri": "https://localhost:8080/"
        },
        "outputId": "93982017-0198-4a4d-ac85-a6d960451436"
      },
      "outputs": [
        {
          "output_type": "execute_result",
          "data": {
            "text/plain": [
              "0     6\n",
              "1     7\n",
              "2     8\n",
              "3     9\n",
              "4    10\n",
              "dtype: int64"
            ]
          },
          "metadata": {},
          "execution_count": 30
        }
      ],
      "source": [
        "X = pd.Series([1,2,3,4,5])\n",
        "\n",
        "X + 5"
      ]
    },
    {
      "cell_type": "markdown",
      "metadata": {
        "id": "nJN44JBNtuHg"
      },
      "source": [
        "<hr style=\"margin-bottom: 40px;\"></hr>\n",
        "\n",
        "\n",
        "## Series boolean arrays (also called masks)"
      ]
    },
    {
      "cell_type": "markdown",
      "metadata": {
        "id": "RzksbmfgtuHg"
      },
      "source": [
        "### Given the X pandas Series, make a mask showing negative elements\n"
      ]
    },
    {
      "cell_type": "code",
      "execution_count": 31,
      "metadata": {
        "cell_type": "solution",
        "id": "DDdrcU_jtuHg",
        "colab": {
          "base_uri": "https://localhost:8080/"
        },
        "outputId": "4e6ad7c0-f98f-4fc5-9c45-268ab64e861f"
      },
      "outputs": [
        {
          "output_type": "execute_result",
          "data": {
            "text/plain": [
              "0     True\n",
              "1    False\n",
              "2     True\n",
              "3     True\n",
              "4    False\n",
              "5    False\n",
              "6     True\n",
              "7     True\n",
              "8     True\n",
              "9    False\n",
              "dtype: bool"
            ]
          },
          "metadata": {},
          "execution_count": 31
        }
      ],
      "source": [
        "X = pd.Series([-1, 2, 0, -4, 5, 6, 0, 0, -9, 10])\n",
        "\n",
        "mask = X <= 0\n",
        "mask"
      ]
    },
    {
      "cell_type": "markdown",
      "metadata": {
        "id": "NqnsCITytuHh"
      },
      "source": [
        "### Given the X pandas Series, get the negative elements\n"
      ]
    },
    {
      "cell_type": "code",
      "execution_count": 32,
      "metadata": {
        "cell_type": "solution",
        "id": "SoUtwaWFtuHh",
        "colab": {
          "base_uri": "https://localhost:8080/"
        },
        "outputId": "caaf75d3-1269-4b7b-9b62-d373babbe454"
      },
      "outputs": [
        {
          "output_type": "execute_result",
          "data": {
            "text/plain": [
              "0   -1\n",
              "2    0\n",
              "3   -4\n",
              "6    0\n",
              "7    0\n",
              "8   -9\n",
              "dtype: int64"
            ]
          },
          "metadata": {},
          "execution_count": 32
        }
      ],
      "source": [
        "X = pd.Series([-1, 2, 0, -4, 5, 6, 0, 0, -9, 10])\n",
        "\n",
        "mask = X <= 0\n",
        "X[mask]"
      ]
    },
    {
      "cell_type": "markdown",
      "metadata": {
        "id": "DmB3TZVUtuHh"
      },
      "source": [
        "### Given the X pandas Series, get numbers higher than 5\n"
      ]
    },
    {
      "cell_type": "code",
      "execution_count": 33,
      "metadata": {
        "cell_type": "solution",
        "id": "h2ENXPdvtuHi",
        "colab": {
          "base_uri": "https://localhost:8080/"
        },
        "outputId": "0e045a74-a260-4a67-9a73-501f933494f9"
      },
      "outputs": [
        {
          "output_type": "execute_result",
          "data": {
            "text/plain": [
              "5     6\n",
              "9    10\n",
              "dtype: int64"
            ]
          },
          "metadata": {},
          "execution_count": 33
        }
      ],
      "source": [
        "X = pd.Series([-1, 2, 0, -4, 5, 6, 0, 0, -9, 10])\n",
        "\n",
        "mask = X > 5\n",
        "X[mask]"
      ]
    },
    {
      "cell_type": "markdown",
      "metadata": {
        "id": "1ggEkxMztuHi"
      },
      "source": [
        "### Given the X pandas Series, get numbers higher than the elements mean"
      ]
    },
    {
      "cell_type": "code",
      "execution_count": 34,
      "metadata": {
        "cell_type": "solution",
        "id": "klW43nxOtuHi",
        "colab": {
          "base_uri": "https://localhost:8080/"
        },
        "outputId": "bb351a43-e75a-4836-9676-3e8f0ba4596e"
      },
      "outputs": [
        {
          "output_type": "execute_result",
          "data": {
            "text/plain": [
              "1     2\n",
              "4     5\n",
              "5     6\n",
              "9    10\n",
              "dtype: int64"
            ]
          },
          "metadata": {},
          "execution_count": 34
        }
      ],
      "source": [
        "X = pd.Series([-1, 2, 0, -4, 5, 6, 0, 0, -9, 10])\n",
        "\n",
        "mask = X > X.mean()\n",
        "X[mask]"
      ]
    },
    {
      "cell_type": "markdown",
      "metadata": {
        "id": "QTTpugNItuHi"
      },
      "source": [
        "### Given the X pandas Series, get numbers equal to 2 or 10\n"
      ]
    },
    {
      "cell_type": "code",
      "execution_count": 35,
      "metadata": {
        "cell_type": "solution",
        "scrolled": true,
        "id": "a0x63wjxtuHj",
        "colab": {
          "base_uri": "https://localhost:8080/"
        },
        "outputId": "4a49e4ef-cc86-4706-ec6b-1d6b9aab0a0f"
      },
      "outputs": [
        {
          "output_type": "execute_result",
          "data": {
            "text/plain": [
              "1     2\n",
              "9    10\n",
              "dtype: int64"
            ]
          },
          "metadata": {},
          "execution_count": 35
        }
      ],
      "source": [
        "X = pd.Series([-1, 2, 0, -4, 5, 6, 0, 0, -9, 10])\n",
        "\n",
        "mask = (X == 2) | (X == 10)\n",
        "X[mask]"
      ]
    },
    {
      "cell_type": "markdown",
      "metadata": {
        "id": "NQ65zWU3tuHj"
      },
      "source": [
        "<hr style=\"margin-bottom: 40px;\"></hr>\n",
        "\n",
        "## Logic functions"
      ]
    },
    {
      "cell_type": "markdown",
      "metadata": {
        "id": "410QwrVNtuHj"
      },
      "source": [
        "### Given the X pandas Series, return True if none of its elements is zero"
      ]
    },
    {
      "cell_type": "code",
      "execution_count": 36,
      "metadata": {
        "cell_type": "solution",
        "id": "1DZKdDFptuHj",
        "colab": {
          "base_uri": "https://localhost:8080/"
        },
        "outputId": "ec8a0bca-abbb-43ad-b2e3-dcb22e4d164a"
      },
      "outputs": [
        {
          "output_type": "execute_result",
          "data": {
            "text/plain": [
              "False"
            ]
          },
          "metadata": {},
          "execution_count": 36
        }
      ],
      "source": [
        "X = pd.Series([-1, 2, 0, -4, 5, 6, 0, 0, -9, 10])\n",
        "\n",
        "X.all()"
      ]
    },
    {
      "cell_type": "markdown",
      "metadata": {
        "id": "9EPFC0N0tuHj"
      },
      "source": [
        "\n",
        "### Given the X pandas Series, return True if any of its elements is zero\n"
      ]
    },
    {
      "cell_type": "code",
      "execution_count": 37,
      "metadata": {
        "cell_type": "solution",
        "id": "f-XSTR1wtuHk",
        "colab": {
          "base_uri": "https://localhost:8080/"
        },
        "outputId": "6ab791a8-d385-4305-d9aa-56a77d0284cc"
      },
      "outputs": [
        {
          "output_type": "execute_result",
          "data": {
            "text/plain": [
              "True"
            ]
          },
          "metadata": {},
          "execution_count": 37
        }
      ],
      "source": [
        "X = pd.Series([-1, 2, 0, -4, 5, 6, 0, 0, -9, 10])\n",
        "\n",
        "X.any()"
      ]
    },
    {
      "cell_type": "markdown",
      "metadata": {
        "id": "3xqVcX5OtuHk"
      },
      "source": [
        "<hr style=\"margin-bottom: 40px;\"></hr>\n",
        "\n",
        "## Summary statistics"
      ]
    },
    {
      "cell_type": "markdown",
      "metadata": {
        "id": "TISlCMmNtuHk"
      },
      "source": [
        "### Given the X pandas Series, show the sum of its elements\n"
      ]
    },
    {
      "cell_type": "code",
      "execution_count": 38,
      "metadata": {
        "cell_type": "solution",
        "id": "5mIeMP0EtuHl",
        "colab": {
          "base_uri": "https://localhost:8080/"
        },
        "outputId": "73b21ad1-1dbe-4505-95c9-8d3d65fa92be"
      },
      "outputs": [
        {
          "output_type": "execute_result",
          "data": {
            "text/plain": [
              "9"
            ]
          },
          "metadata": {},
          "execution_count": 38
        }
      ],
      "source": [
        "X = pd.Series([-1, 2, 0, -4, 5, 6, 0, 0, -9, 10])\n",
        "\n",
        "X.sum()"
      ]
    },
    {
      "cell_type": "code",
      "source": [
        "np.sum(X)"
      ],
      "metadata": {
        "colab": {
          "base_uri": "https://localhost:8080/"
        },
        "id": "-o3XVM0Mmj78",
        "outputId": "d836cb48-84fd-4d2c-9d7d-1ebb67100b2e"
      },
      "execution_count": 39,
      "outputs": [
        {
          "output_type": "execute_result",
          "data": {
            "text/plain": [
              "9"
            ]
          },
          "metadata": {},
          "execution_count": 39
        }
      ]
    },
    {
      "cell_type": "markdown",
      "metadata": {
        "id": "J7jL_jA1tuHl"
      },
      "source": [
        "\n",
        "### Given the X pandas Series, show the mean value of its elements"
      ]
    },
    {
      "cell_type": "code",
      "execution_count": 40,
      "metadata": {
        "cell_type": "solution",
        "id": "rjTgDmGJtuHl",
        "colab": {
          "base_uri": "https://localhost:8080/"
        },
        "outputId": "daae79bc-ff69-45b8-c8e6-7d5d9128ea9d"
      },
      "outputs": [
        {
          "output_type": "execute_result",
          "data": {
            "text/plain": [
              "0.9"
            ]
          },
          "metadata": {},
          "execution_count": 40
        }
      ],
      "source": [
        "X = pd.Series([-1, 2, 0, -4, 5, 6, 0, 0, -9, 10])\n",
        "\n",
        "X.mean()"
      ]
    },
    {
      "cell_type": "code",
      "source": [
        "np.mean(X)"
      ],
      "metadata": {
        "colab": {
          "base_uri": "https://localhost:8080/"
        },
        "id": "ifGGV1LNms2C",
        "outputId": "66be264a-3c54-46b0-9379-95ae90e32dce"
      },
      "execution_count": 41,
      "outputs": [
        {
          "output_type": "execute_result",
          "data": {
            "text/plain": [
              "0.9"
            ]
          },
          "metadata": {},
          "execution_count": 41
        }
      ]
    },
    {
      "cell_type": "markdown",
      "metadata": {
        "id": "i1QyEhbRtuHl"
      },
      "source": [
        "\n",
        "### Given the X pandas Series, show the max value of its elements"
      ]
    },
    {
      "cell_type": "code",
      "execution_count": 42,
      "metadata": {
        "cell_type": "solution",
        "id": "rIRLkJd0tuHm",
        "colab": {
          "base_uri": "https://localhost:8080/"
        },
        "outputId": "58f3f986-64d3-4660-be95-551142b75b3d"
      },
      "outputs": [
        {
          "output_type": "execute_result",
          "data": {
            "text/plain": [
              "10"
            ]
          },
          "metadata": {},
          "execution_count": 42
        }
      ],
      "source": [
        "X = pd.Series([-1, 2, 0, -4, 5, 6, 0, 0, -9, 10])\n",
        "\n",
        "X.max()"
      ]
    },
    {
      "cell_type": "code",
      "source": [
        "np.max(X)"
      ],
      "metadata": {
        "colab": {
          "base_uri": "https://localhost:8080/"
        },
        "id": "kXhSxc0Sm1ke",
        "outputId": "6d03aee9-2b38-438d-9a29-b06c64f0f01a"
      },
      "execution_count": 43,
      "outputs": [
        {
          "output_type": "execute_result",
          "data": {
            "text/plain": [
              "10"
            ]
          },
          "metadata": {},
          "execution_count": 43
        }
      ]
    }
  ],
  "metadata": {
    "kernelspec": {
      "display_name": "Python 3",
      "language": "python",
      "name": "python3"
    },
    "language_info": {
      "codemirror_mode": {
        "name": "ipython",
        "version": 3
      },
      "file_extension": ".py",
      "mimetype": "text/x-python",
      "name": "python",
      "nbconvert_exporter": "python",
      "pygments_lexer": "ipython3",
      "version": "3.7.4"
    },
    "colab": {
      "name": "Pandas Series Exercises.ipynb",
      "provenance": [],
      "include_colab_link": true
    }
  },
  "nbformat": 4,
  "nbformat_minor": 0
}